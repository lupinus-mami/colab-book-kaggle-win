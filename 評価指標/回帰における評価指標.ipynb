{
  "nbformat": 4,
  "nbformat_minor": 0,
  "metadata": {
    "colab": {
      "name": "回帰における評価指標.ipynb",
      "provenance": [],
      "collapsed_sections": [],
      "toc_visible": true,
      "authorship_tag": "ABX9TyPUzRZFONx2zGeXufCNddDM",
      "include_colab_link": true
    },
    "kernelspec": {
      "name": "python3",
      "display_name": "Python 3"
    },
    "language_info": {
      "name": "python"
    }
  },
  "cells": [
    {
      "cell_type": "markdown",
      "metadata": {
        "id": "view-in-github",
        "colab_type": "text"
      },
      "source": [
        "<a href=\"https://colab.research.google.com/github/lupinus-mami/colab-book-kaggle-win/blob/main/%E8%A9%95%E4%BE%A1%E6%8C%87%E6%A8%99/%E5%9B%9E%E5%B8%B0%E3%81%AB%E3%81%8A%E3%81%91%E3%82%8B%E8%A9%95%E4%BE%A1%E6%8C%87%E6%A8%99.ipynb\" target=\"_parent\"><img src=\"https://colab.research.google.com/assets/colab-badge.svg\" alt=\"Open In Colab\"/></a>"
      ]
    },
    {
      "cell_type": "code",
      "metadata": {
        "id": "x4t0DZPvMejZ"
      },
      "source": [
        "import pandas as pd\n",
        "import numpy as np"
      ],
      "execution_count": 1,
      "outputs": []
    },
    {
      "cell_type": "markdown",
      "metadata": {
        "id": "KIHyj5iCGMX8"
      },
      "source": [
        "# RMSE\n",
        "\n",
        "- root mean squared error:平均平方二乗誤差\n",
        "- 予測値の差の二乗をとり平均したあとに平方根をとる\n",
        "- 回帰タスクで最も代表的な評価指標\n",
        "- MAEと比較すると外れ値の影響を受けやすいので、予め外れ値を除く処理などをしておかないと外れ値に過剰に適合したモデルを作成してしまう可能性がある"
      ]
    },
    {
      "cell_type": "code",
      "metadata": {
        "id": "fn_vfSKaMklt",
        "colab": {
          "base_uri": "https://localhost:8080/",
          "height": 48
        },
        "outputId": "d3e9cd77-194a-4f88-8e5e-707c5fcc1384"
      },
      "source": [
        "%%latex \\\n",
        "RMSE = \\sqrt{\\frac{1}{N} \\sum_{i=1}^{N}(y_i - \\hat{{y_i}}^2)} "
      ],
      "execution_count": 4,
      "outputs": [
        {
          "output_type": "display_data",
          "data": {
            "text/latex": "RMSE = \\sqrt{\\frac{1}{N} \\sum_{i=1}^{N}(y_i - \\hat{{y_i}}^2)} ",
            "text/plain": [
              "<IPython.core.display.Latex object>"
            ]
          },
          "metadata": {}
        }
      ]
    },
    {
      "cell_type": "code",
      "metadata": {
        "colab": {
          "base_uri": "https://localhost:8080/"
        },
        "id": "EPbKGnHcIAjQ",
        "outputId": "c739c69e-b1a1-4250-f72f-ce1acb7c7b21"
      },
      "source": [
        "from sklearn.metrics import mean_squared_error\n",
        "\n",
        "# y_trueが真の値、y_predが予測値\n",
        "y_true = [1.0, 1.5, 2.0, 1.2, 1.8]\n",
        "y_pred = [0.8, 1.5, 1.8, 1.3, 3.0]\n",
        "\n",
        "rmse = np.sqrt(mean_squared_error(y_true, y_pred))\n",
        "print(rmse)"
      ],
      "execution_count": null,
      "outputs": [
        {
          "output_type": "stream",
          "name": "stdout",
          "text": [
            "0.5531726674375732\n"
          ]
        }
      ]
    },
    {
      "cell_type": "markdown",
      "metadata": {
        "id": "Laz7YT-XIiw0"
      },
      "source": [
        "# RMSLE"
      ]
    },
    {
      "cell_type": "markdown",
      "metadata": {
        "id": "pHj7uFDb5MTv"
      },
      "source": [
        "- root mean squared lagarithmic error\n",
        "- 目的変数の対数をとって変換した値を新たな目的変数とした上でRMSEを最小化すれば、RMSLEを最小化することになる\n",
        "- 目的変数が裾の重い分布を持つ場合や、 指標は真値と予測値の比率に着目ししたい場合に用いる"
      ]
    },
    {
      "cell_type": "code",
      "metadata": {
        "colab": {
          "base_uri": "https://localhost:8080/",
          "height": 48
        },
        "id": "6-UH5ZEq5M-3",
        "outputId": "e20b9927-218f-4939-9215-91a993537f0d"
      },
      "source": [
        "%%latex \\\n",
        "RMSLE = \\sqrt{\\frac{1}{N} \\sum_{i=1}^{N}(\\log(1+y_i) - \\log(1 + \\hat{{y_i}}))^2)} "
      ],
      "execution_count": 8,
      "outputs": [
        {
          "output_type": "display_data",
          "data": {
            "text/latex": "RMSLE = \\sqrt{\\frac{1}{N} \\sum_{i=1}^{N}(\\log(1+y_i) - \\log(1 + \\hat{{y_i}}))^2)} ",
            "text/plain": [
              "<IPython.core.display.Latex object>"
            ]
          },
          "metadata": {}
        }
      ]
    },
    {
      "cell_type": "code",
      "metadata": {
        "colab": {
          "base_uri": "https://localhost:8080/"
        },
        "id": "bMKH0oku5NPB",
        "outputId": "ae1e918a-68b3-42a3-ba45-c245b5bff350"
      },
      "source": [
        "from sklearn.metrics import mean_squared_log_error\n",
        "\n",
        "y_true = [100, 0, 400]\n",
        "y_pred = [200, 10, 200]\n",
        "\n",
        "rmsle = np.sqrt(mean_squared_log_error(y_true, y_pred))\n",
        "print(rmsle)"
      ],
      "execution_count": 9,
      "outputs": [
        {
          "output_type": "stream",
          "name": "stdout",
          "text": [
            "1.4944905400842203\n"
          ]
        }
      ]
    },
    {
      "cell_type": "markdown",
      "metadata": {
        "id": "tkCwLYqn5Nfq"
      },
      "source": [
        "# MAE"
      ]
    },
    {
      "cell_type": "markdown",
      "metadata": {
        "id": "VUuyPlyS7acB"
      },
      "source": [
        "- mean absolute error\n",
        "- 外れ値の影響を低減した形での評価に適した関数"
      ]
    },
    {
      "cell_type": "code",
      "metadata": {
        "colab": {
          "base_uri": "https://localhost:8080/",
          "height": 40
        },
        "id": "6992Q-RS7at0",
        "outputId": "54ace6d4-0213-4ca5-9670-bf9a2054f6c1"
      },
      "source": [
        "%%latex \\\n",
        "MAE = \\frac{1}{N} \\sum_{i=1}^{N} \\left| y_i - \\hat{y_i} \\right| "
      ],
      "execution_count": 11,
      "outputs": [
        {
          "output_type": "display_data",
          "data": {
            "text/latex": "MAE = \\frac{1}{N} \\sum_{i=1}^{N} \\left| y_i - \\hat{y_i} \\right| ",
            "text/plain": [
              "<IPython.core.display.Latex object>"
            ]
          },
          "metadata": {}
        }
      ]
    },
    {
      "cell_type": "code",
      "metadata": {
        "colab": {
          "base_uri": "https://localhost:8080/"
        },
        "id": "MCQPpFuW7bAG",
        "outputId": "86695523-8021-491d-d51f-755dcfafb22b"
      },
      "source": [
        "from sklearn.metrics import mean_absolute_error\n",
        "\n",
        "# y_trueが真の値、y_predが予測値\n",
        "y_true = [100, 160, 60]\n",
        "y_pred = [80, 100, 100]\n",
        "\n",
        "mae = mean_absolute_error(y_true, y_pred)\n",
        "print(mae)"
      ],
      "execution_count": 13,
      "outputs": [
        {
          "output_type": "stream",
          "name": "stdout",
          "text": [
            "40.0\n"
          ]
        }
      ]
    },
    {
      "cell_type": "markdown",
      "metadata": {
        "id": "NQyMZcfp8PTV"
      },
      "source": [
        "# 決定係数"
      ]
    },
    {
      "cell_type": "markdown",
      "metadata": {
        "id": "kh_-EJHZ8Pmj"
      },
      "source": [
        "- R^2\n",
        "- 回帰分析の当てはまりの良さを表す\n",
        "- 分母は予測値に依らず、分子は二乗誤差を差し引いているため、この指標を最大化することはRMSEを最小化することと同じ意味\n",
        "- 最大1で、1に近づくほど精度の高い予測ができていることになる"
      ]
    },
    {
      "cell_type": "code",
      "metadata": {
        "colab": {
          "base_uri": "https://localhost:8080/",
          "height": 71
        },
        "id": "mi-wF_Ht8P1y",
        "outputId": "0e42373e-2d6f-4b78-9895-8e688d33f9d1"
      },
      "source": [
        "%%latex \\\n",
        "R^2 = 1-\\frac {\\sum_{i=1}^{N}(y_i-\\hat{y_i})^2}{\\sum_{i=1}^{N}(y_i-\\bar{y_i})^2} \\\\\n",
        "\\bar{y} = \\frac{1}{N} \\sum_{i=1}^{N}y_i"
      ],
      "execution_count": 22,
      "outputs": [
        {
          "output_type": "display_data",
          "data": {
            "text/latex": "R^2 = 1-\\frac {\\sum_{i=1}^{N}(y_i-\\hat{y_i})^2}{\\sum_{i=1}^{N}(y_i-\\bar{y_i})^2} \\\\\n\\bar{y} = \\frac{1}{N} \\sum_{i=1}^{N}y_i",
            "text/plain": [
              "<IPython.core.display.Latex object>"
            ]
          },
          "metadata": {}
        }
      ]
    }
  ]
}